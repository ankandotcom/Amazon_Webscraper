{
 "cells": [
  {
   "cell_type": "code",
   "execution_count": 5,
   "metadata": {},
   "outputs": [
    {
     "name": "stdout",
     "output_type": "stream",
     "text": [
      "Requirement already satisfied: bs4 in /home/code-ankan/jptrenv/lib/python3.12/site-packages (0.0.2)\n",
      "Requirement already satisfied: beautifulsoup4 in /home/code-ankan/jptrenv/lib/python3.12/site-packages (from bs4) (4.13.3)\n",
      "Requirement already satisfied: soupsieve>1.2 in /home/code-ankan/jptrenv/lib/python3.12/site-packages (from beautifulsoup4->bs4) (2.6)\n",
      "Requirement already satisfied: typing-extensions>=4.0.0 in /home/code-ankan/jptrenv/lib/python3.12/site-packages (from beautifulsoup4->bs4) (4.12.2)\n",
      "Note: you may need to restart the kernel to use updated packages.\n"
     ]
    }
   ],
   "source": [
    "pip install bs4"
   ]
  },
  {
   "cell_type": "code",
   "execution_count": 1,
   "metadata": {},
   "outputs": [
    {
     "name": "stdout",
     "output_type": "stream",
     "text": [
      "Requirement already satisfied: lxml in /home/code-ankan/jptrenv/lib/python3.12/site-packages (5.3.1)\n",
      "Note: you may need to restart the kernel to use updated packages.\n"
     ]
    }
   ],
   "source": [
    "pip install lxml"
   ]
  },
  {
   "cell_type": "code",
   "execution_count": 2,
   "metadata": {},
   "outputs": [
    {
     "name": "stdout",
     "output_type": "stream",
     "text": [
      "Requirement already satisfied: requests in /home/code-ankan/jptrenv/lib/python3.12/site-packages (2.32.3)\n",
      "Requirement already satisfied: charset-normalizer<4,>=2 in /home/code-ankan/jptrenv/lib/python3.12/site-packages (from requests) (3.4.1)\n",
      "Requirement already satisfied: idna<4,>=2.5 in /home/code-ankan/jptrenv/lib/python3.12/site-packages (from requests) (3.10)\n",
      "Requirement already satisfied: urllib3<3,>=1.21.1 in /home/code-ankan/jptrenv/lib/python3.12/site-packages (from requests) (2.3.0)\n",
      "Requirement already satisfied: certifi>=2017.4.17 in /home/code-ankan/jptrenv/lib/python3.12/site-packages (from requests) (2025.1.31)\n",
      "Note: you may need to restart the kernel to use updated packages.\n"
     ]
    }
   ],
   "source": [
    "pip install requests"
   ]
  },
  {
   "cell_type": "code",
   "execution_count": 3,
   "metadata": {},
   "outputs": [
    {
     "name": "stdout",
     "output_type": "stream",
     "text": [
      "Requirement already satisfied: pandas in /home/code-ankan/jptrenv/lib/python3.12/site-packages (2.2.3)\n",
      "Requirement already satisfied: numpy>=1.26.0 in /home/code-ankan/jptrenv/lib/python3.12/site-packages (from pandas) (2.2.3)\n",
      "Requirement already satisfied: python-dateutil>=2.8.2 in /home/code-ankan/jptrenv/lib/python3.12/site-packages (from pandas) (2.9.0.post0)\n",
      "Requirement already satisfied: pytz>=2020.1 in /home/code-ankan/jptrenv/lib/python3.12/site-packages (from pandas) (2025.1)\n",
      "Requirement already satisfied: tzdata>=2022.7 in /home/code-ankan/jptrenv/lib/python3.12/site-packages (from pandas) (2025.1)\n",
      "Requirement already satisfied: six>=1.5 in /home/code-ankan/jptrenv/lib/python3.12/site-packages (from python-dateutil>=2.8.2->pandas) (1.17.0)\n",
      "Note: you may need to restart the kernel to use updated packages.\n"
     ]
    }
   ],
   "source": [
    "pip install pandas"
   ]
  },
  {
   "cell_type": "code",
   "execution_count": null,
   "metadata": {},
   "outputs": [
    {
     "name": "stdout",
     "output_type": "stream",
     "text": [
      "Title: boAt Bassheads 100 in Ear Wired Earphones with Mic(Black)\n",
      "Price: 299.\n",
      "Rating: 4.1 out of 5 stars\n",
      "Reviews: 414,970 ratings\n",
      "Availability: In stock\n",
      "Title: Acer Nitro VG270 M3 27 Inch Full HD Monitor with LED Backlight IPS Gaming I 0.5 Ms Response I 180Hz Refresh Rate I SRGB 99%, HDR 10 I 2xHDMI, 1xDP I Stereo Speakers I AMD Radeon Free Sync (Black)\n",
      "Price: 11,390.\n",
      "Rating: 4.1 out of 5 stars\n",
      "Reviews: 3,870 ratings\n",
      "Availability: In stock\n",
      "✅ Data successfully saved to 'amazon_products.csv'\n"
     ]
    }
   ],
   "source": [
    "from bs4 import BeautifulSoup\n",
    "import requests\n",
    "import pandas as pd\n",
    "\n",
    "def scrape_product(URL):\n",
    "    \"\"\"Scrapes product details from an Amazon page and stores in a structured CSV format.\"\"\"\n",
    "    \n",
    "    HEADERS = {\n",
    "        'User-Agent': 'Mozilla/5.0 (X11; Linux x86_64) AppleWebKit/537.36 '\n",
    "                      '(KHTML, like Gecko) Chrome/44.0.2403.157 Safari/537.36',\n",
    "        'Accept-Language': 'en-US, en;q=0.5'\n",
    "    }\n",
    "\n",
    "    try:\n",
    "        response = requests.get(URL, headers=HEADERS, timeout=10)\n",
    "        response.raise_for_status()\n",
    "    except requests.RequestException as e:\n",
    "        print(f\"Failed to fetch URL: {URL} | Error: {e}\")\n",
    "        return None\n",
    "\n",
    "    soup = BeautifulSoup(response.content, \"html.parser\")\n",
    "\n",
    "    title = soup.find(\"span\", attrs={\"id\": \"productTitle\"})\n",
    "    title_text = title.get_text(strip=True) if title else \"NA\"\n",
    "\n",
    "    price = soup.find(\"span\", class_=\"a-price-whole\")\n",
    "    price_text = price.get_text(strip=True) if price else \"NA\"\n",
    "\n",
    "    rating = soup.select_one(\"span.a-icon-alt\")\n",
    "    rating_text = rating.get_text(strip=True) if rating else \"NA\"\n",
    "\n",
    "    review_count = soup.find(\"span\", attrs={\"id\": \"acrCustomerReviewText\"})\n",
    "    review_count_text = review_count.get_text(strip=True) if review_count else \"NA\"\n",
    "\n",
    "    availability = soup.find(\"div\", attrs={\"id\": \"availability\"})\n",
    "    availability_text = availability.get_text(strip=True) if availability else \"NA\"\n",
    "\n",
    "    print(f\"Title: {title_text}\")\n",
    "    print(f\"Price: {price_text}\")\n",
    "    print(f\"Rating: {rating_text}\")\n",
    "    print(f\"Reviews: {review_count_text}\")\n",
    "    print(f\"Availability: {availability_text}\")\n",
    "\n",
    "    return {\n",
    "        \"Title\": title_text,\n",
    "        \"Price\": price_text,\n",
    "        \"Rating\": rating_text,\n",
    "        \"Reviews\": review_count_text,\n",
    "        \"Availability\": availability_text\n",
    "    }\n",
    "\n",
    "\n",
    "if __name__ == \"__main__\":\n",
    "    try:\n",
    "        with open(\"url.txt\", \"r\") as file:\n",
    "            urls = file.readlines()\n",
    "\n",
    "        product_data = []\n",
    "\n",
    "        for link in urls:\n",
    "            product_info = scrape_product(link.strip())\n",
    "            if product_info:\n",
    "                product_data.append(product_info)\n",
    "\n",
    "        if product_data:\n",
    "            df = pd.DataFrame(product_data)\n",
    "            df.to_csv(\"amazon_products.csv\", index=False, encoding=\"utf-8\")\n",
    "            print(\"✅ Data successfully saved to 'amazon_products.csv'\")\n",
    "        else:\n",
    "            print(\"⚠ No data scraped. Check URLs or network connection.\")\n",
    "\n",
    "    except FileNotFoundError:\n",
    "        print(\"❌ Error: 'url.txt' not found.\")\n"
   ]
  }
 ],
 "metadata": {
  "kernelspec": {
   "display_name": "jptr_kernel",
   "language": "python",
   "name": "jptr_kernel"
  },
  "language_info": {
   "codemirror_mode": {
    "name": "ipython",
    "version": 3
   },
   "file_extension": ".py",
   "mimetype": "text/x-python",
   "name": "python",
   "nbconvert_exporter": "python",
   "pygments_lexer": "ipython3",
   "version": "3.12.3"
  }
 },
 "nbformat": 4,
 "nbformat_minor": 2
}
